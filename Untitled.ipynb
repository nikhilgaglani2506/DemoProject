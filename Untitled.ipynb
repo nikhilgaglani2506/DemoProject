{
 "cells": [
  {
   "cell_type": "code",
   "execution_count": 2,
   "metadata": {},
   "outputs": [],
   "source": [
    "import pandas as pd"
   ]
  },
  {
   "cell_type": "code",
   "execution_count": 9,
   "metadata": {},
   "outputs": [
    {
     "name": "stdout",
     "output_type": "stream",
     "text": [
      "0 , 0\n",
      "1 , 1\n",
      "2 , 0\n",
      "3 , 1\n",
      "4 , 0\n",
      "5 , 1\n",
      "6 , 0\n",
      "7 , 1\n",
      "8 , 0\n",
      "9 , 1\n"
     ]
    }
   ],
   "source": [
    "x=0\n",
    "y=0\n",
    "while x < 10:\n",
    "   for  y in range (0,2):\n",
    "        print(x,\",\", y)\n",
    "        y\n",
    "        x=x+1      \n",
    "    "
   ]
  },
  {
   "cell_type": "code",
   "execution_count": null,
   "metadata": {},
   "outputs": [],
   "source": []
  }
 ],
 "metadata": {
  "kernelspec": {
   "display_name": "Python 3",
   "language": "python",
   "name": "python3"
  },
  "language_info": {
   "codemirror_mode": {
    "name": "ipython",
    "version": 3
   },
   "file_extension": ".py",
   "mimetype": "text/x-python",
   "name": "python",
   "nbconvert_exporter": "python",
   "pygments_lexer": "ipython3",
   "version": "3.7.3"
  }
 },
 "nbformat": 4,
 "nbformat_minor": 2
}
