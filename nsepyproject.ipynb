{
 "cells": [
  {
   "cell_type": "code",
   "execution_count": 7,
   "metadata": {},
   "outputs": [],
   "source": [
    "import pandas as pd\n",
    "import numpy\n",
    "import scipy\n",
    "import nsepy\n",
    "import lxml\n",
    "from datetime import date"
   ]
  },
  {
   "cell_type": "code",
   "execution_count": 12,
   "metadata": {},
   "outputs": [],
   "source": [
    "sbin = nsepy.get_history(symbol='SBIN',\n",
    "                    start=date(2019,4,1), \n",
    "                    end=date(2019,5,1))"
   ]
  },
  {
   "cell_type": "code",
   "execution_count": 16,
   "metadata": {},
   "outputs": [
    {
     "data": {
      "text/html": [
       "<div>\n",
       "<style scoped>\n",
       "    .dataframe tbody tr th:only-of-type {\n",
       "        vertical-align: middle;\n",
       "    }\n",
       "\n",
       "    .dataframe tbody tr th {\n",
       "        vertical-align: top;\n",
       "    }\n",
       "\n",
       "    .dataframe thead th {\n",
       "        text-align: right;\n",
       "    }\n",
       "</style>\n",
       "<table border=\"1\" class=\"dataframe\">\n",
       "  <thead>\n",
       "    <tr style=\"text-align: right;\">\n",
       "      <th></th>\n",
       "      <th>Symbol</th>\n",
       "      <th>Series</th>\n",
       "      <th>Prev Close</th>\n",
       "      <th>Open</th>\n",
       "      <th>High</th>\n",
       "      <th>Low</th>\n",
       "      <th>Last</th>\n",
       "      <th>Close</th>\n",
       "      <th>VWAP</th>\n",
       "      <th>Volume</th>\n",
       "      <th>Turnover</th>\n",
       "      <th>Trades</th>\n",
       "      <th>Deliverable Volume</th>\n",
       "      <th>%Deliverble</th>\n",
       "    </tr>\n",
       "    <tr>\n",
       "      <th>Date</th>\n",
       "      <th></th>\n",
       "      <th></th>\n",
       "      <th></th>\n",
       "      <th></th>\n",
       "      <th></th>\n",
       "      <th></th>\n",
       "      <th></th>\n",
       "      <th></th>\n",
       "      <th></th>\n",
       "      <th></th>\n",
       "      <th></th>\n",
       "      <th></th>\n",
       "      <th></th>\n",
       "      <th></th>\n",
       "    </tr>\n",
       "  </thead>\n",
       "  <tbody>\n",
       "    <tr>\n",
       "      <th>2019-04-01</th>\n",
       "      <td>SBIN</td>\n",
       "      <td>EQ</td>\n",
       "      <td>320.75</td>\n",
       "      <td>321.80</td>\n",
       "      <td>327.65</td>\n",
       "      <td>321.05</td>\n",
       "      <td>321.4</td>\n",
       "      <td>322.75</td>\n",
       "      <td>324.12</td>\n",
       "      <td>22372357</td>\n",
       "      <td>7.251368e+14</td>\n",
       "      <td>152113</td>\n",
       "      <td>5761078</td>\n",
       "      <td>0.2575</td>\n",
       "    </tr>\n",
       "    <tr>\n",
       "      <th>2019-04-02</th>\n",
       "      <td>SBIN</td>\n",
       "      <td>EQ</td>\n",
       "      <td>322.75</td>\n",
       "      <td>323.65</td>\n",
       "      <td>331.00</td>\n",
       "      <td>322.10</td>\n",
       "      <td>330.9</td>\n",
       "      <td>329.00</td>\n",
       "      <td>327.03</td>\n",
       "      <td>27897583</td>\n",
       "      <td>9.123416e+14</td>\n",
       "      <td>190698</td>\n",
       "      <td>9159638</td>\n",
       "      <td>0.3283</td>\n",
       "    </tr>\n",
       "    <tr>\n",
       "      <th>2019-04-03</th>\n",
       "      <td>SBIN</td>\n",
       "      <td>EQ</td>\n",
       "      <td>329.00</td>\n",
       "      <td>331.00</td>\n",
       "      <td>332.45</td>\n",
       "      <td>319.50</td>\n",
       "      <td>321.1</td>\n",
       "      <td>320.50</td>\n",
       "      <td>326.00</td>\n",
       "      <td>30552104</td>\n",
       "      <td>9.959893e+14</td>\n",
       "      <td>190240</td>\n",
       "      <td>9418960</td>\n",
       "      <td>0.3083</td>\n",
       "    </tr>\n",
       "    <tr>\n",
       "      <th>2019-04-04</th>\n",
       "      <td>SBIN</td>\n",
       "      <td>EQ</td>\n",
       "      <td>320.50</td>\n",
       "      <td>321.50</td>\n",
       "      <td>325.75</td>\n",
       "      <td>318.30</td>\n",
       "      <td>322.3</td>\n",
       "      <td>321.80</td>\n",
       "      <td>321.68</td>\n",
       "      <td>27832294</td>\n",
       "      <td>8.953013e+14</td>\n",
       "      <td>198067</td>\n",
       "      <td>7319014</td>\n",
       "      <td>0.2630</td>\n",
       "    </tr>\n",
       "    <tr>\n",
       "      <th>2019-04-05</th>\n",
       "      <td>SBIN</td>\n",
       "      <td>EQ</td>\n",
       "      <td>321.80</td>\n",
       "      <td>323.70</td>\n",
       "      <td>323.70</td>\n",
       "      <td>315.00</td>\n",
       "      <td>317.7</td>\n",
       "      <td>317.05</td>\n",
       "      <td>317.84</td>\n",
       "      <td>23117232</td>\n",
       "      <td>7.347580e+14</td>\n",
       "      <td>155709</td>\n",
       "      <td>8317904</td>\n",
       "      <td>0.3598</td>\n",
       "    </tr>\n",
       "  </tbody>\n",
       "</table>\n",
       "</div>"
      ],
      "text/plain": [
       "           Symbol Series  Prev Close    Open    High     Low   Last   Close  \\\n",
       "Date                                                                          \n",
       "2019-04-01   SBIN     EQ      320.75  321.80  327.65  321.05  321.4  322.75   \n",
       "2019-04-02   SBIN     EQ      322.75  323.65  331.00  322.10  330.9  329.00   \n",
       "2019-04-03   SBIN     EQ      329.00  331.00  332.45  319.50  321.1  320.50   \n",
       "2019-04-04   SBIN     EQ      320.50  321.50  325.75  318.30  322.3  321.80   \n",
       "2019-04-05   SBIN     EQ      321.80  323.70  323.70  315.00  317.7  317.05   \n",
       "\n",
       "              VWAP    Volume      Turnover  Trades  Deliverable Volume  \\\n",
       "Date                                                                     \n",
       "2019-04-01  324.12  22372357  7.251368e+14  152113             5761078   \n",
       "2019-04-02  327.03  27897583  9.123416e+14  190698             9159638   \n",
       "2019-04-03  326.00  30552104  9.959893e+14  190240             9418960   \n",
       "2019-04-04  321.68  27832294  8.953013e+14  198067             7319014   \n",
       "2019-04-05  317.84  23117232  7.347580e+14  155709             8317904   \n",
       "\n",
       "            %Deliverble  \n",
       "Date                     \n",
       "2019-04-01       0.2575  \n",
       "2019-04-02       0.3283  \n",
       "2019-04-03       0.3083  \n",
       "2019-04-04       0.2630  \n",
       "2019-04-05       0.3598  "
      ]
     },
     "execution_count": 16,
     "metadata": {},
     "output_type": "execute_result"
    }
   ],
   "source": [
    "sbin.head(5)"
   ]
  },
  {
   "cell_type": "code",
   "execution_count": 14,
   "metadata": {},
   "outputs": [
    {
     "data": {
      "text/plain": [
       "<matplotlib.axes._subplots.AxesSubplot at 0xb22f390>"
      ]
     },
     "execution_count": 14,
     "metadata": {},
     "output_type": "execute_result"
    },
    {
     "data": {
      "image/png": "[encoded data removed]",
      "text/plain": [
       "<Figure size 432x288 with 2 Axes>"
      ]
     },
     "metadata": {
      "needs_background": "light"
     },
     "output_type": "display_data"
    }
   ],
   "source": [
    "sbin[[ 'VWAP', 'Turnover']].plot(secondary_y='Turnover')"
   ]
  },
  {
   "cell_type": "code",
   "execution_count": null,
   "metadata": {},
   "outputs": [],
   "source": []
  }
 ],
 "metadata": {
  "kernelspec": {
   "display_name": "Python 3",
   "language": "python",
   "name": "python3"
  },
  "language_info": {
   "codemirror_mode": {
    "name": "ipython",
    "version": 3
   },
   "file_extension": ".py",
   "mimetype": "text/x-python",
   "name": "python",
   "nbconvert_exporter": "python",
   "pygments_lexer": "ipython3",
   "version": "3.7.3"
  }
 },
 "nbformat": 4,
 "nbformat_minor": 2
}
